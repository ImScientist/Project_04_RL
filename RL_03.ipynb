{
 "cells": [
  {
   "cell_type": "markdown",
   "metadata": {},
   "source": [
    "This idea is bad !"
   ]
  },
  {
   "cell_type": "code",
   "execution_count": 1,
   "metadata": {},
   "outputs": [],
   "source": [
    "import numpy as np\n",
    "import copy\n",
    "\n",
    "from src.m03_some_mc import Mask_x0_x1, Reward, Get_pdf, Calculate_V, Plot_V"
   ]
  },
  {
   "cell_type": "markdown",
   "metadata": {},
   "source": [
    "### 1 Define the world"
   ]
  },
  {
   "cell_type": "code",
   "execution_count": 2,
   "metadata": {},
   "outputs": [],
   "source": [
    "dim0, dim1 = 3, 4\n",
    "\n",
    "impenetrable_points = \\\n",
    "    [(-1,   d1  ) for d1 in range(dim1)] + \\\n",
    "    [(dim0, d1  ) for d1 in range(dim1)] + \\\n",
    "    [(d0  , -1  ) for d0 in range(dim0)] + \\\n",
    "    [(d0  , dim1) for d0 in range(dim0)] + \\\n",
    "    [(1,1)]\n",
    "\n",
    "M = np.array([ [Mask_x0_x1(x=(x0,x1), D=impenetrable_points) for x1 in range(dim1)] for x0 in range(dim0) ])\n",
    "\n",
    "R = np.array([  [Reward(x=(x0,x1)) for x1 in range(dim1)] for x0 in range(dim0) ])"
   ]
  },
  {
   "cell_type": "markdown",
   "metadata": {},
   "source": [
    "### 2 Add noise"
   ]
  },
  {
   "cell_type": "code",
   "execution_count": 3,
   "metadata": {},
   "outputs": [],
   "source": [
    "dimensions = dim0, dim1\n",
    "\n",
    "hyperparameters = {\n",
    "    'seed': 34,\n",
    "    'destination': (0,3),\n",
    "    'gam': 0.9,\n",
    "    'beta': 0.05,\n",
    "    'ep_noise': 0.04,\n",
    "    'iterations': 10000\n",
    "}\n",
    "\n",
    "\n",
    "Lam, Lam_noise = Get_pdf(dimensions, hyperparameters, M, R)"
   ]
  },
  {
   "cell_type": "code",
   "execution_count": 4,
   "metadata": {},
   "outputs": [],
   "source": [
    "V = Calculate_V(dimensions, hyperparameters['gam'], Lam_noise, M, R, 1000)"
   ]
  },
  {
   "cell_type": "code",
   "execution_count": 5,
   "metadata": {},
   "outputs": [
    {
     "data": {
      "text/plain": [
       "array([[[0.  , 0.07, 0.74, 0.  , 0.18],\n",
       "        [0.  , 0.  , 0.9 , 0.04, 0.06],\n",
       "        [0.  , 0.14, 0.49, 0.09, 0.29],\n",
       "        [0.  , 0.33, 0.  , 0.33, 0.33]],\n",
       "\n",
       "       [[0.68, 0.21, 0.  , 0.  , 0.1 ],\n",
       "        [0.  , 0.  , 0.  , 0.  , 0.  ],\n",
       "        [0.74, 0.03, 0.03, 0.  , 0.19],\n",
       "        [0.25, 0.25, 0.  , 0.25, 0.25]],\n",
       "\n",
       "       [[0.34, 0.  , 0.55, 0.  , 0.11],\n",
       "        [0.  , 0.  , 0.82, 0.08, 0.1 ],\n",
       "        [0.8 , 0.  , 0.06, 0.04, 0.09],\n",
       "        [0.04, 0.  , 0.  , 0.84, 0.12]]])"
      ]
     },
     "execution_count": 5,
     "metadata": {},
     "output_type": "execute_result"
    }
   ],
   "source": [
    "np.around(Lam_noise,2)"
   ]
  },
  {
   "cell_type": "code",
   "execution_count": 6,
   "metadata": {},
   "outputs": [
    {
     "data": {
      "image/png": "[encoded data removed]",
      "text/plain": [
       "<matplotlib.figure.Figure at 0x109a02c50>"
      ]
     },
     "metadata": {},
     "output_type": "display_data"
    }
   ],
   "source": [
    "Plot_V((V), Lam_noise, impenetrable_points)"
   ]
  },
  {
   "cell_type": "code",
   "execution_count": null,
   "metadata": {},
   "outputs": [],
   "source": []
  }
 ],
 "metadata": {
  "kernelspec": {
   "display_name": "Python 3",
   "language": "python",
   "name": "python3"
  },
  "language_info": {
   "codemirror_mode": {
    "name": "ipython",
    "version": 3
   },
   "file_extension": ".py",
   "mimetype": "text/x-python",
   "name": "python",
   "nbconvert_exporter": "python",
   "pygments_lexer": "ipython3",
   "version": "3.6.4"
  }
 },
 "nbformat": 4,
 "nbformat_minor": 2
}
