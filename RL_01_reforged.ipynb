{
 "cells": [
  {
   "cell_type": "code",
   "execution_count": 1,
   "metadata": {},
   "outputs": [],
   "source": [
    "import os\n",
    "import copy"
   ]
  },
  {
   "cell_type": "markdown",
   "metadata": {},
   "source": [
    "##### use library"
   ]
  },
  {
   "cell_type": "code",
   "execution_count": 2,
   "metadata": {},
   "outputs": [
    {
     "data": {
      "text/plain": [
       "'/Users/A.IVA/Documents/jupyter_notebooks/coursera_and_blogs/pytorch/rl'"
      ]
     },
     "execution_count": 2,
     "metadata": {},
     "output_type": "execute_result"
    }
   ],
   "source": [
    "pwd"
   ]
  },
  {
   "cell_type": "code",
   "execution_count": 3,
   "metadata": {},
   "outputs": [],
   "source": [
    "from src.m01_refactored import get_path, get_path_v2, plot_rho\n",
    "import numpy as np\n",
    "\n",
    "def get_dyn_obstacles_v1(t):\n",
    "    if t % 3 == 0:\n",
    "        return [(0,1), (1,1)]\n",
    "    elif t % 3 == 1:\n",
    "        return [(1,1), (2,1)]\n",
    "    else:\n",
    "        return [(0,1), (2,1)]\n",
    "\n",
    "\n",
    "def get_dyn_obstacles_v2(t):\n",
    "    if t % 3 == 0:\n",
    "        return [(0,1), (1,1), (1,3), (2,3)]\n",
    "    elif t % 3 == 1:\n",
    "        return [(1,1), (2,1), (0,3), (2,3)]\n",
    "    else:\n",
    "        return [(0,1), (2,1), (0,3), (1,3)]"
   ]
  },
  {
   "cell_type": "code",
   "execution_count": 4,
   "metadata": {},
   "outputs": [],
   "source": [
    "d0 = 3\n",
    "d1 = 8\n",
    "t_max = 15\n",
    "\n",
    "params = {\n",
    "    'd0': d0,\n",
    "    'd1': d1,\n",
    "    't_max': t_max,\n",
    "    'alpha': 0.1,\n",
    "    'gamma': 1,\n",
    "    'max_iterations': 100000\n",
    "}\n",
    "\n",
    "reward_points_v1 = [\n",
    "    {\n",
    "        'pos': (0,3),\n",
    "        't': np.arange(0,t_max),\n",
    "        'reward': np.ones(shape=(t_max,))\n",
    "    },\n",
    "    {\n",
    "        'pos': (1,3),\n",
    "        't': np.arange(0,t_max),\n",
    "        'reward': -6 * np.ones(shape=(t_max,)) \n",
    "    }\n",
    "]\n",
    "\n",
    "reward_points_v2 = [\n",
    "    {\n",
    "        'pos': (0,7),\n",
    "        't': np.arange(0,t_max),\n",
    "        'reward': np.ones(shape=(t_max,))\n",
    "    },\n",
    "    {\n",
    "        'pos': (1,7),\n",
    "        't': np.arange(0,t_max),\n",
    "        'reward': -6 * np.ones(shape=(t_max,)) \n",
    "    },\n",
    "]\n",
    "\n",
    "imp_static = \\\n",
    "    [(-1, el) for el in range(d1)] + \\\n",
    "    [(d0, el) for el in range(d1)] + \\\n",
    "    [(el, -1) for el in range(d0)] + \\\n",
    "    [(el, d1) for el in range(d0)] + \\\n",
    "    [(1,4), (1,6)]\n",
    "\n",
    "imp_all = [copy.deepcopy(imp_static) for el in range(t_max+1)]\n",
    "\n",
    "for t in range(t_max+1):\n",
    "    dyn_obstacles = get_dyn_obstacles_v2(t)\n",
    "    imp_all[t].extend(dyn_obstacles)"
   ]
  },
  {
   "cell_type": "code",
   "execution_count": 5,
   "metadata": {},
   "outputs": [
    {
     "name": "stdout",
     "output_type": "stream",
     "text": [
      "tau = 14\n",
      "tau = 13\n",
      "tau = 12\n",
      "tau = 11\n",
      "tau = 10\n",
      "tau = 9\n",
      "tau = 8\n",
      "tau = 7\n",
      "tau = 6\n",
      "tau = 5\n",
      "tau = 4\n",
      "tau = 3\n",
      "tau = 2\n",
      "tau = 1\n",
      "tau = 0\n"
     ]
    }
   ],
   "source": [
    "result = get_path_v2(params=params,\n",
    "                     impenetrable_points=imp_all,\n",
    "                     reward_points=reward_points_v2)"
   ]
  },
  {
   "cell_type": "code",
   "execution_count": 7,
   "metadata": {},
   "outputs": [],
   "source": [
    "# result = get_path(params=params,\n",
    "#                   impenetrable_points=imp_all,\n",
    "#                   reward_points=reward_points_v2)"
   ]
  },
  {
   "cell_type": "code",
   "execution_count": 6,
   "metadata": {},
   "outputs": [],
   "source": [
    "# result['rhos'][0][0,2] = np.array([1, 0 ,0 ,0 ,0])\n",
    "# result['rhos'][2][(1,2)]"
   ]
  },
  {
   "cell_type": "code",
   "execution_count": 16,
   "metadata": {},
   "outputs": [],
   "source": [
    "import copy\n",
    "import itertools\n",
    "import numpy as np\n",
    "from matplotlib import pyplot as plt\n",
    "from typing import List, Tuple\n",
    "\n",
    "\n",
    "def plot_rho(V, probabilities, impenetrable_points, d0, d1):\n",
    "    fig = plt.figure(figsize=(1.5 * (d1 + 1), 1.5 * d0))\n",
    "\n",
    "    ax = fig.add_subplot(1, 1, 1, xticks=np.arange(d1), yticks=np.arange(d0))\n",
    "    plt.imshow(V, interpolation='none', aspect='auto', cmap='RdYlGn')\n",
    "    plt.colorbar()\n",
    "    arrows = [u'\\u26ab', '\\u25b2', '\\u25bc', '\\u25b6', '\\u25c0']\n",
    "\n",
    "    for (i, j), v in np.ndenumerate(np.around(V, 2)):\n",
    "        label = ''\n",
    "        if (i, j) not in impenetrable_points:\n",
    "            if v < 0.01:\n",
    "                label = \"x\\n \"\n",
    "            else:\n",
    "                probability_vec = probabilities[(i, j)]\n",
    "                direction = arrows[np.argmax(probability_vec)]\n",
    "                prob = np.max(np.round(probability_vec, 2))\n",
    "                label = f\"{direction}\\n{prob}\"\n",
    "\n",
    "        plt.gca().text(j, i, label, ha='center', va='center')\n",
    "\n",
    "    plt.show()\n",
    "    return fig"
   ]
  },
  {
   "cell_type": "code",
   "execution_count": 19,
   "metadata": {
    "scrolled": true
   },
   "outputs": [
    {
     "data": {
      "image/png": "[encoded data removed]",
      "text/plain": [
       "<Figure size 972x324 with 2 Axes>"
      ]
     },
     "metadata": {
      "needs_background": "light"
     },
     "output_type": "display_data"
    }
   ],
   "source": [
    "t=0\n",
    "fig = plot_rho(V=result['v_stars'][t], \n",
    "             probabilities=result['rhos'][t], \n",
    "             impenetrable_points=imp_all[t], \n",
    "             d0=d0, \n",
    "             d1=d1)\n",
    "\n",
    "fig.savefig('probs_a.png', transparent=True)"
   ]
  },
  {
   "cell_type": "code",
   "execution_count": 6,
   "metadata": {},
   "outputs": [
    {
     "name": "stdout",
     "output_type": "stream",
     "text": [
      "0\n",
      "[0.5 0.5 0.  0.  0. ]\n",
      "[0.333 0.333 0.333 0.    0.   ]\n",
      "[0.5 0.5 0.  0.  0. ]\n",
      "[0.333 0.    0.333 0.    0.333]\n",
      "\n",
      "\n",
      " 1\n",
      "[0.5 0.  0.5 0.  0. ]\n",
      "[0.333 0.333 0.    0.333 0.   ]\n",
      "\n",
      "\n",
      " 2\n",
      "[0.333 0.333 0.333 0.    0.   ]\n",
      "[0.5 0.5 0.  0.  0. ]\n"
     ]
    }
   ],
   "source": [
    "t=0\n",
    "print(t)\n",
    "print(np.round(result['rhos'][t][(1,2)], 3))\n",
    "print(np.round(result['rhos'][t][(1,0)], 3))\n",
    "print(np.round(result['rhos'][t][(2,0)], 3))\n",
    "print(np.round(result['rhos'][t][(0,2)], 3))\n",
    "\n",
    "t=1\n",
    "print('\\n\\n', t)\n",
    "print(np.round(result['rhos'][t][(0,0)], 3))\n",
    "print(np.round(result['rhos'][t][(1,0)], 3))\n",
    "\n",
    "\n",
    "t=2\n",
    "print('\\n\\n', t)\n",
    "print(np.round(result['rhos'][t][(1,2)], 3))\n",
    "print(np.round(result['rhos'][t][(2,2)], 3))"
   ]
  },
  {
   "cell_type": "code",
   "execution_count": 7,
   "metadata": {
    "scrolled": false
   },
   "outputs": [
    {
     "data": {
      "image/png": "[encoded data removed]",
      "text/plain": [
       "<Figure size 972x324 with 2 Axes>"
      ]
     },
     "metadata": {
      "needs_background": "light"
     },
     "output_type": "display_data"
    },
    {
     "data": {
      "image/png": "[encoded data removed]",
      "text/plain": [
       "<Figure size 972x324 with 2 Axes>"
      ]
     },
     "metadata": {
      "needs_background": "light"
     },
     "output_type": "display_data"
    },
    {
     "data": {
      "image/png": "[encoded data removed]",
      "text/plain": [
       "<Figure size 972x324 with 2 Axes>"
      ]
     },
     "metadata": {
      "needs_background": "light"
     },
     "output_type": "display_data"
    }
   ],
   "source": [
    "for t in range(3):  #range(t_max):\n",
    "    plot_rho(V=result['v_stars'][t], \n",
    "             probabilities=result['rhos'][t], \n",
    "             impenetrable_points=imp_all[t], \n",
    "             d0=d0, \n",
    "             d1=d1)"
   ]
  },
  {
   "cell_type": "markdown",
   "metadata": {
    "heading_collapsed": true
   },
   "source": [
    "##### alg at problematic place"
   ]
  },
  {
   "cell_type": "code",
   "execution_count": 9,
   "metadata": {
    "hidden": true
   },
   "outputs": [],
   "source": [
    "from src.m01_refactored import *"
   ]
  },
  {
   "cell_type": "code",
   "execution_count": 11,
   "metadata": {
    "hidden": true
   },
   "outputs": [
    {
     "data": {
      "text/plain": [
       "dict_keys(['v_stars', 'rhos', 'rewards', 'masks'])"
      ]
     },
     "execution_count": 11,
     "metadata": {},
     "output_type": "execute_result"
    }
   ],
   "source": [
    "result.keys()"
   ]
  },
  {
   "cell_type": "code",
   "execution_count": 14,
   "metadata": {
    "hidden": true
   },
   "outputs": [],
   "source": [
    "rewards = result['rewards']\n",
    "masks = result['masks']\n",
    "v_stars = result['v_stars']"
   ]
  },
  {
   "cell_type": "code",
   "execution_count": 35,
   "metadata": {
    "hidden": true
   },
   "outputs": [],
   "source": [
    "tau = 0\n",
    "xi = (1,2)\n",
    "\n",
    "reward = rewards[tau]  # rewards[tau] refers to reward collected at tau+1\n",
    "mask = masks[tau][xi]\n",
    "v_star = np.zeros(shape=(d0, d1)) if tau == t_max - 1 else v_stars[tau + 1]\n",
    "\n",
    "lam, min_val, info = fmin_l_bfgs_b(func=neg_v_st_new,\n",
    "                                   x0=np.array([0., 0., 0., 0., 0.]),\n",
    "                                   fprime=neg_grad_v_st_new,\n",
    "                                   args=[np.round(v_star,4), mask, xi, reward],\n",
    "                                   factr=1e5,  # 1e7\n",
    "                                   pgtol=1e-9,  # 1e-5\n",
    "                                   maxfun=1000000,  # 15000\n",
    "                                   maxiter=1000000)  # 15000\n",
    "\n"
   ]
  },
  {
   "cell_type": "code",
   "execution_count": 16,
   "metadata": {
    "hidden": true
   },
   "outputs": [
    {
     "data": {
      "text/plain": [
       "{'grad': array([-8.02709613e-10, -7.25636160e-10,  7.64172845e-10,  7.64172845e-10,\n",
       "        -0.00000000e+00]),\n",
       " 'task': b'CONVERGENCE: NORM_OF_PROJECTED_GRADIENT_<=_PGTOL',\n",
       " 'funcalls': 26,\n",
       " 'nit': 25,\n",
       " 'warnflag': 0}"
      ]
     },
     "execution_count": 16,
     "metadata": {},
     "output_type": "execute_result"
    }
   ],
   "source": [
    "info"
   ]
  },
  {
   "cell_type": "code",
   "execution_count": 36,
   "metadata": {
    "hidden": true
   },
   "outputs": [
    {
     "data": {
      "text/plain": [
       "array([ 10.14919975,  10.14919975, -10.1491999 , -10.1491999 ,\n",
       "         0.        ])"
      ]
     },
     "execution_count": 36,
     "metadata": {},
     "output_type": "execute_result"
    }
   ],
   "source": [
    "lam"
   ]
  },
  {
   "cell_type": "code",
   "execution_count": 37,
   "metadata": {
    "hidden": true
   },
   "outputs": [
    {
     "data": {
      "text/plain": [
       "array([4.99999999e-01, 4.99999999e-01, 7.64692881e-10, 7.64692881e-10,\n",
       "       0.00000000e+00])"
      ]
     },
     "execution_count": 37,
     "metadata": {},
     "output_type": "execute_result"
    }
   ],
   "source": [
    "get_rho(lam, mask)"
   ]
  },
  {
   "cell_type": "code",
   "execution_count": 19,
   "metadata": {
    "hidden": true
   },
   "outputs": [
    {
     "data": {
      "text/plain": [
       "array([ True,  True,  True,  True, False])"
      ]
     },
     "execution_count": 19,
     "metadata": {},
     "output_type": "execute_result"
    }
   ],
   "source": [
    "mask"
   ]
  },
  {
   "cell_type": "code",
   "execution_count": 20,
   "metadata": {
    "hidden": true
   },
   "outputs": [
    {
     "data": {
      "text/plain": [
       "array([[ 0.,  0.,  0.,  0.,  0.,  0.,  0.,  1.],\n",
       "       [ 0.,  0.,  0.,  0.,  0.,  0.,  0., -6.],\n",
       "       [ 0.,  0.,  0.,  0.,  0.,  0.,  0.,  0.]])"
      ]
     },
     "execution_count": 20,
     "metadata": {},
     "output_type": "execute_result"
    }
   ],
   "source": [
    "reward"
   ]
  },
  {
   "cell_type": "code",
   "execution_count": 27,
   "metadata": {
    "hidden": true
   },
   "outputs": [
    {
     "name": "stdout",
     "output_type": "stream",
     "text": [
      "[[ 5.99999999  8.99999999  8.99999999  0.         11.99999999 12.99999999\n",
      "  13.99999999 13.99999999]\n",
      " [ 5.99999999  0.          8.99999999  7.99999999  0.         11.99999999\n",
      "   0.         13.99999999]\n",
      " [ 5.99999999  0.          7.99999999  0.          9.99999999 10.99999999\n",
      "   9.99999999  8.99999999]]\n"
     ]
    }
   ],
   "source": [
    "print(np.round(v_star,8))"
   ]
  },
  {
   "cell_type": "code",
   "execution_count": 33,
   "metadata": {
    "hidden": true
   },
   "outputs": [
    {
     "data": {
      "text/plain": [
       "array([-7.90695215e-10, -7.37650542e-10,  7.64172845e-10,  7.64172845e-10,\n",
       "       -0.00000000e+00])"
      ]
     },
     "execution_count": 33,
     "metadata": {},
     "output_type": "execute_result"
    }
   ],
   "source": [
    "args=[np.round(v_star,4), mask, xi, reward]\n",
    "neg_grad_v_st_new(lam, *args)                         "
   ]
  },
  {
   "cell_type": "code",
   "execution_count": 34,
   "metadata": {
    "hidden": true
   },
   "outputs": [
    {
     "data": {
      "text/plain": [
       "array([-1.03057727e-09, -1.03057727e-09,  1.03057681e-09,  1.03057681e-09,\n",
       "       -0.00000000e+00])"
      ]
     },
     "execution_count": 34,
     "metadata": {},
     "output_type": "execute_result"
    }
   ],
   "source": [
    "neg_grad_v_st_new(np.round(lam, 0), *args)"
   ]
  },
  {
   "cell_type": "code",
   "execution_count": 31,
   "metadata": {
    "hidden": true
   },
   "outputs": [
    {
     "data": {
      "text/plain": [
       "array([ 10.18395928,  10.11451739, -10.14923895, -10.14923895,\n",
       "         0.        ])"
      ]
     },
     "execution_count": 31,
     "metadata": {},
     "output_type": "execute_result"
    }
   ],
   "source": [
    "lam"
   ]
  },
  {
   "cell_type": "code",
   "execution_count": null,
   "metadata": {
    "hidden": true
   },
   "outputs": [],
   "source": []
  },
  {
   "cell_type": "markdown",
   "metadata": {},
   "source": [
    "##### trajectory explorer"
   ]
  },
  {
   "cell_type": "code",
   "execution_count": 8,
   "metadata": {},
   "outputs": [],
   "source": [
    "def traj_realization(rhos, t_max, x_init=(2,0), x_final=(0,7)):\n",
    "\n",
    "    n_steps = 0\n",
    "    t = 0\n",
    "    x, x_new = x_init, None\n",
    "    steps=[x]\n",
    "\n",
    "    while x_new != x_final and t < t_max:\n",
    "\n",
    "        move_prob = rhos[t][x]\n",
    "        move_cumulative_prob = np.cumsum(move_prob)\n",
    "\n",
    "        rv = np.random.rand()\n",
    "        mask = rv < move_cumulative_prob\n",
    "        action = np.argmax(mask)\n",
    "\n",
    "        if action == 0:\n",
    "            x_new = x\n",
    "        elif action == 1:\n",
    "            x_new = (x[0]-1, x[1])\n",
    "        elif action == 2:\n",
    "            x_new = (x[0]+1, x[1])\n",
    "        elif action == 3:\n",
    "            x_new = (x[0], x[1]+1)\n",
    "        else:\n",
    "            x_new = (x[0], x[1]-1)\n",
    "\n",
    "        x = x_new\n",
    "        t += 1\n",
    "        n_steps += 1\n",
    "        steps.append(x)\n",
    "\n",
    "    return n_steps, steps"
   ]
  },
  {
   "cell_type": "code",
   "execution_count": 9,
   "metadata": {},
   "outputs": [],
   "source": [
    "rhos = result['rhos']"
   ]
  },
  {
   "cell_type": "code",
   "execution_count": 10,
   "metadata": {},
   "outputs": [
    {
     "data": {
      "text/plain": [
       "{10}"
      ]
     },
     "execution_count": 10,
     "metadata": {},
     "output_type": "execute_result"
    }
   ],
   "source": [
    "n_steps_collection = [traj_realization(rhos, t_max, x_init=(2,0), x_final=(0,7)) for _ in range(100000)]\n",
    "n_steps_collection = map(lambda x: x[0], n_steps_collection)\n",
    "n_steps_collection = list(n_steps_collection)\n",
    "set(n_steps_collection)"
   ]
  },
  {
   "cell_type": "code",
   "execution_count": 11,
   "metadata": {},
   "outputs": [
    {
     "name": "stdout",
     "output_type": "stream",
     "text": [
      "[['[(2, 0), (1, 0), (0, 0), (0, 0), (0, 1), (0, 2), (0, 3), (0, 4), (0, 5), (0, 6), (0, 7)]'\n",
      "  '1626']\n",
      " ['[(2, 0), (1, 0), (1, 0), (0, 0), (0, 1), (0, 2), (0, 3), (0, 4), (0, 5), (0, 6), (0, 7)]'\n",
      "  '1699']\n",
      " ['[(2, 0), (1, 0), (1, 1), (1, 2), (0, 2), (0, 2), (0, 3), (0, 4), (0, 5), (0, 6), (0, 7)]'\n",
      "  '813']\n",
      " ['[(2, 0), (1, 0), (1, 1), (1, 2), (1, 2), (0, 2), (0, 3), (0, 4), (0, 5), (0, 6), (0, 7)]'\n",
      "  '846']\n",
      " ['[(2, 0), (2, 0), (1, 0), (0, 0), (0, 1), (0, 2), (0, 3), (0, 4), (0, 5), (0, 6), (0, 7)]'\n",
      "  '5016']]\n"
     ]
    }
   ],
   "source": [
    "n_steps_collection = [traj_realization(rhos, t_max, x_init=(2,0), x_final=(0,7)) for _ in range(10000)]\n",
    "n_steps_collection = map(lambda x: str(x[1]), n_steps_collection)\n",
    "n_steps_collection = list(n_steps_collection)\n",
    "\n",
    "unique, counts = np.unique(n_steps_collection, return_counts=True)\n",
    "print(np.asarray((unique, counts)).T)"
   ]
  },
  {
   "cell_type": "code",
   "execution_count": 109,
   "metadata": {},
   "outputs": [
    {
     "data": {
      "text/plain": [
       "array(['[(2, 0), (1, 0), (0, 0), (0, 0), (0, 1), (0, 2), (0, 3), (0, 4), (0, 5), (0, 6), (0, 7)]',\n",
       "       '[(2, 0), (1, 0), (1, 0), (0, 0), (0, 1), (0, 2), (0, 3), (0, 4), (0, 5), (0, 6), (0, 7)]',\n",
       "       '[(2, 0), (1, 0), (1, 1), (1, 2), (0, 2), (0, 2), (0, 3), (0, 4), (0, 5), (0, 6), (0, 7)]',\n",
       "       '[(2, 0), (1, 0), (1, 1), (1, 2), (1, 2), (0, 2), (0, 3), (0, 4), (0, 5), (0, 6), (0, 7)]',\n",
       "       '[(2, 0), (2, 0), (1, 0), (0, 0), (0, 1), (0, 2), (0, 3), (0, 4), (0, 5), (0, 6), (0, 7)]'],\n",
       "      dtype='<U88')"
      ]
     },
     "execution_count": 109,
     "metadata": {},
     "output_type": "execute_result"
    }
   ],
   "source": [
    "unique"
   ]
  },
  {
   "cell_type": "code",
   "execution_count": null,
   "metadata": {},
   "outputs": [],
   "source": []
  },
  {
   "cell_type": "code",
   "execution_count": 6,
   "metadata": {
    "scrolled": true
   },
   "outputs": [
    {
     "data": {
      "image/png": "[encoded data removed]",
      "text/plain": [
       "<Figure size 972x324 with 2 Axes>"
      ]
     },
     "metadata": {
      "needs_background": "light"
     },
     "output_type": "display_data"
    },
    {
     "data": {
      "image/png": "[encoded data removed]",
      "text/plain": [
       "<Figure size 972x324 with 2 Axes>"
      ]
     },
     "metadata": {
      "needs_background": "light"
     },
     "output_type": "display_data"
    },
    {
     "data": {
      "image/png": "[encoded data removed]",
      "text/plain": [
       "<Figure size 972x324 with 2 Axes>"
      ]
     },
     "metadata": {
      "needs_background": "light"
     },
     "output_type": "display_data"
    }
   ],
   "source": [
    "for t in range(3):  #range(t_max):\n",
    "    plot_rho(V=result['v_stars'][t], \n",
    "             probabilities=result['rhos'][t], \n",
    "             impenetrable_points=imp_all[t], \n",
    "             d0=d0, \n",
    "             d1=d1)"
   ]
  },
  {
   "cell_type": "markdown",
   "metadata": {},
   "source": [
    "##### use the L-BFGS-B algorithm"
   ]
  },
  {
   "cell_type": "code",
   "execution_count": 38,
   "metadata": {},
   "outputs": [],
   "source": [
    "from scipy.optimize import fmin_l_bfgs_b"
   ]
  },
  {
   "cell_type": "code",
   "execution_count": 43,
   "metadata": {},
   "outputs": [],
   "source": [
    "def f(x):    \n",
    "    return x**2 -2*x + 1\n",
    "\n",
    "def fprime(x):\n",
    "    return 2*(x - 1)\n",
    "\n",
    "\n",
    "x, min_val, info = fmin_l_bfgs_b(func=f, \n",
    "                                 x0=7, \n",
    "                                 fprime=fprime,\n",
    "                                 epsilon=1e-6,\n",
    "                                 maxiter=15000)"
   ]
  },
  {
   "cell_type": "code",
   "execution_count": 52,
   "metadata": {},
   "outputs": [],
   "source": [
    "# vector inputs are allowed\n",
    "\n",
    "def f(x):\n",
    "    return x @ x + 11\n",
    "\n",
    "def fprime(x):\n",
    "    return 2 * x\n",
    "\n",
    "x, min_val, info = fmin_l_bfgs_b(func=f, \n",
    "                                 x0=np.array([8.,4.]), \n",
    "                                 fprime=fprime,\n",
    "                                 epsilon=1e-6,\n",
    "                                 maxiter=15000)"
   ]
  },
  {
   "cell_type": "code",
   "execution_count": 72,
   "metadata": {},
   "outputs": [],
   "source": [
    "# vector inputs are allowed\n",
    "\n",
    "def f(x, rmat, mm=9):\n",
    "    return x @ x + rmat[(1,1)] + mm\n",
    "\n",
    "def fprime(x, rmat):\n",
    "    return 2 * x\n",
    "\n",
    "x, min_val, info = fmin_l_bfgs_b(func=f, \n",
    "                                 x0=np.array([8.,4.]), \n",
    "                                 fprime=fprime,\n",
    "                                 args=[tmp],\n",
    "                                 epsilon=1e-6,\n",
    "                                 maxiter=15000)"
   ]
  },
  {
   "cell_type": "code",
   "execution_count": 73,
   "metadata": {},
   "outputs": [
    {
     "data": {
      "text/plain": [
       "array([-4.44089210e-15, -2.22044605e-15])"
      ]
     },
     "execution_count": 73,
     "metadata": {},
     "output_type": "execute_result"
    }
   ],
   "source": [
    "x"
   ]
  },
  {
   "cell_type": "code",
   "execution_count": 75,
   "metadata": {},
   "outputs": [
    {
     "data": {
      "text/plain": [
       "12.0"
      ]
     },
     "execution_count": 75,
     "metadata": {},
     "output_type": "execute_result"
    }
   ],
   "source": [
    "min_val"
   ]
  },
  {
   "cell_type": "code",
   "execution_count": 83,
   "metadata": {},
   "outputs": [],
   "source": [
    "tmp = np.array([0., 0., 0., 0., 0.])[[True, True, False, True, False]]"
   ]
  },
  {
   "cell_type": "code",
   "execution_count": 84,
   "metadata": {},
   "outputs": [
    {
     "data": {
      "text/plain": [
       "array([0., 0., 0.])"
      ]
     },
     "execution_count": 84,
     "metadata": {},
     "output_type": "execute_result"
    }
   ],
   "source": [
    "tmp"
   ]
  },
  {
   "cell_type": "code",
   "execution_count": 82,
   "metadata": {},
   "outputs": [
    {
     "data": {
      "text/plain": [
       "array([0., 0., 0.])"
      ]
     },
     "execution_count": 82,
     "metadata": {},
     "output_type": "execute_result"
    }
   ],
   "source": [
    "tmp[[True, True, False, True, False]]"
   ]
  },
  {
   "cell_type": "code",
   "execution_count": 71,
   "metadata": {},
   "outputs": [
    {
     "name": "stdout",
     "output_type": "stream",
     "text": [
      "[[0 1]\n",
      " [2 3]]\n",
      "8\n",
      "8\n"
     ]
    }
   ],
   "source": [
    "tmp = np.arange(0,4,1).reshape(-1,2)\n",
    "print(tmp)\n",
    "print(f(x=np.array([1,2]), rmat=tmp))\n",
    "print(f(x=np.array([1,2]), **{'rmat': tmp}))"
   ]
  },
  {
   "cell_type": "code",
   "execution_count": null,
   "metadata": {},
   "outputs": [],
   "source": []
  },
  {
   "cell_type": "code",
   "execution_count": null,
   "metadata": {},
   "outputs": [],
   "source": []
  },
  {
   "cell_type": "code",
   "execution_count": null,
   "metadata": {},
   "outputs": [],
   "source": []
  },
  {
   "cell_type": "code",
   "execution_count": null,
   "metadata": {},
   "outputs": [],
   "source": []
  },
  {
   "cell_type": "code",
   "execution_count": null,
   "metadata": {},
   "outputs": [],
   "source": []
  },
  {
   "cell_type": "code",
   "execution_count": null,
   "metadata": {},
   "outputs": [],
   "source": []
  },
  {
   "cell_type": "code",
   "execution_count": null,
   "metadata": {},
   "outputs": [],
   "source": []
  },
  {
   "cell_type": "code",
   "execution_count": null,
   "metadata": {},
   "outputs": [],
   "source": []
  },
  {
   "cell_type": "code",
   "execution_count": null,
   "metadata": {},
   "outputs": [],
   "source": []
  },
  {
   "cell_type": "code",
   "execution_count": null,
   "metadata": {},
   "outputs": [],
   "source": []
  },
  {
   "cell_type": "code",
   "execution_count": null,
   "metadata": {},
   "outputs": [],
   "source": []
  }
 ],
 "metadata": {
  "kernelspec": {
   "display_name": "pytorch",
   "language": "python",
   "name": "pytorch"
  },
  "language_info": {
   "codemirror_mode": {
    "name": "ipython",
    "version": 3
   },
   "file_extension": ".py",
   "mimetype": "text/x-python",
   "name": "python",
   "nbconvert_exporter": "python",
   "pygments_lexer": "ipython3",
   "version": "3.7.4"
  }
 },
 "nbformat": 4,
 "nbformat_minor": 2
}
