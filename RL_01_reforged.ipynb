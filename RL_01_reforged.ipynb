{
 "cells": [
  {
   "cell_type": "code",
   "execution_count": 1,
   "metadata": {},
   "outputs": [],
   "source": [
    "import os"
   ]
  },
  {
   "cell_type": "code",
   "execution_count": null,
   "metadata": {},
   "outputs": [],
   "source": []
  },
  {
   "cell_type": "markdown",
   "metadata": {
    "heading_collapsed": true
   },
   "source": [
    "##### do smth"
   ]
  },
  {
   "cell_type": "code",
   "execution_count": 21,
   "metadata": {
    "hidden": true
   },
   "outputs": [],
   "source": [
    "import itertools\n",
    "import numpy as np\n",
    "from matplotlib import pyplot as plt"
   ]
  },
  {
   "cell_type": "code",
   "execution_count": 3,
   "metadata": {
    "hidden": true
   },
   "outputs": [],
   "source": [
    "tmp = np.random.randint(low=0, high=10, size=(3,4,5))"
   ]
  },
  {
   "cell_type": "code",
   "execution_count": 4,
   "metadata": {
    "hidden": true
   },
   "outputs": [
    {
     "data": {
      "text/plain": [
       "array([[[4, 4, 4, 6, 1],\n",
       "        [8, 2, 7, 3, 5],\n",
       "        [4, 2, 5, 1, 2],\n",
       "        [9, 4, 6, 7, 1]],\n",
       "\n",
       "       [[2, 9, 6, 3, 8],\n",
       "        [9, 7, 1, 6, 6],\n",
       "        [6, 5, 5, 1, 1],\n",
       "        [2, 8, 5, 0, 2]],\n",
       "\n",
       "       [[5, 1, 2, 3, 4],\n",
       "        [5, 6, 8, 0, 0],\n",
       "        [1, 2, 6, 5, 6],\n",
       "        [0, 7, 7, 0, 6]]])"
      ]
     },
     "execution_count": 4,
     "metadata": {},
     "output_type": "execute_result"
    }
   ],
   "source": [
    "tmp"
   ]
  },
  {
   "cell_type": "code",
   "execution_count": 8,
   "metadata": {
    "hidden": true
   },
   "outputs": [
    {
     "data": {
      "text/plain": [
       "array([9, 7, 1, 6, 6])"
      ]
     },
     "execution_count": 8,
     "metadata": {},
     "output_type": "execute_result"
    }
   ],
   "source": [
    "tmp[1,1]"
   ]
  },
  {
   "cell_type": "code",
   "execution_count": 9,
   "metadata": {
    "hidden": true
   },
   "outputs": [
    {
     "data": {
      "text/plain": [
       "array([9, 7, 1, 6, 6])"
      ]
     },
     "execution_count": 9,
     "metadata": {},
     "output_type": "execute_result"
    }
   ],
   "source": [
    "tmp[(1,1)]"
   ]
  },
  {
   "cell_type": "code",
   "execution_count": 12,
   "metadata": {
    "hidden": true
   },
   "outputs": [],
   "source": [
    "mask = [True, False, True, True, True]"
   ]
  },
  {
   "cell_type": "code",
   "execution_count": 13,
   "metadata": {
    "hidden": true
   },
   "outputs": [
    {
     "data": {
      "text/plain": [
       "array([9, 1, 6, 6])"
      ]
     },
     "execution_count": 13,
     "metadata": {},
     "output_type": "execute_result"
    }
   ],
   "source": [
    "tmp[(1,1)][mask]"
   ]
  },
  {
   "cell_type": "code",
   "execution_count": 17,
   "metadata": {
    "hidden": true
   },
   "outputs": [
    {
     "data": {
      "text/plain": [
       "array([[[2, 9, 6, 3, 8],\n",
       "        [9, 7, 1, 6, 6],\n",
       "        [6, 5, 5, 1, 1],\n",
       "        [2, 8, 5, 0, 2]],\n",
       "\n",
       "       [[2, 9, 6, 3, 8],\n",
       "        [9, 7, 1, 6, 6],\n",
       "        [6, 5, 5, 1, 1],\n",
       "        [2, 8, 5, 0, 2]]])"
      ]
     },
     "execution_count": 17,
     "metadata": {},
     "output_type": "execute_result"
    }
   ],
   "source": [
    "tmp[np.array([1,1])]"
   ]
  },
  {
   "cell_type": "code",
   "execution_count": 19,
   "metadata": {
    "hidden": true
   },
   "outputs": [
    {
     "data": {
      "text/plain": [
       "True"
      ]
     },
     "execution_count": 19,
     "metadata": {},
     "output_type": "execute_result"
    }
   ],
   "source": [
    "(1,2) == (1,2)"
   ]
  },
  {
   "cell_type": "markdown",
   "metadata": {
    "heading_collapsed": true
   },
   "source": [
    "##### Define world map"
   ]
  },
  {
   "cell_type": "code",
   "execution_count": 20,
   "metadata": {
    "hidden": true
   },
   "outputs": [],
   "source": [
    "reward_points = [\n",
    "    {\n",
    "        'pos': (0,3),\n",
    "        't': np.arange(0,10),\n",
    "        'reward': np.ones(shape=(10,))\n",
    "    },\n",
    "    {\n",
    "        'pos': (1,3),\n",
    "        't': np.arange(0,10),\n",
    "        'reward': -6 * np.ones(shape=(10,)) \n",
    "    }\n",
    "]\n",
    "\n",
    "\n",
    "def get_reward(x, t, reward_points):\n",
    "    \n",
    "    rew = sum([el['reward'][t] for el in reward_points if el['pos'] == x])\n",
    "    return rew\n"
   ]
  },
  {
   "cell_type": "code",
   "execution_count": 26,
   "metadata": {
    "hidden": true
   },
   "outputs": [],
   "source": [
    "t = 0\n",
    "d0, d1 = 3, 4\n",
    "\n",
    "reward = np.zeros(shape=(d0, d1))\n",
    "\n",
    "\n",
    "for x in itertools.product(range(d0), range(d1)):    \n",
    "    reward[x] = get_reward(x, t, reward_points)"
   ]
  },
  {
   "cell_type": "code",
   "execution_count": 27,
   "metadata": {
    "hidden": true
   },
   "outputs": [
    {
     "data": {
      "text/plain": [
       "array([[ 0.,  0.,  0.,  1.],\n",
       "       [ 0.,  0.,  0., -6.],\n",
       "       [ 0.,  0.,  0.,  0.]])"
      ]
     },
     "execution_count": 27,
     "metadata": {},
     "output_type": "execute_result"
    }
   ],
   "source": [
    "reward"
   ]
  },
  {
   "cell_type": "code",
   "execution_count": 136,
   "metadata": {
    "code_folding": [
     2,
     22,
     74
    ],
    "hidden": true
   },
   "outputs": [],
   "source": [
    "from typing import List, Tuple\n",
    "\n",
    "def kd(a, b):\n",
    "    \"\"\" kd = kronecker delta\n",
    "    \"\"\"\n",
    "    return 1 if a == b else 0\n",
    "\n",
    "def get_rho(lam: np.ndarray, mask: np.ndarray):\n",
    "    \"\"\"\n",
    "    :param lam:\n",
    "    :param mask:\n",
    "    :return:\n",
    "    \"\"\"\n",
    "    r = np.zeros(shape=(len(mask),))\n",
    "\n",
    "    if any(mask):\n",
    "        r_ = np.exp(lam[mask])\n",
    "        r_ = r_ / r_.sum()\n",
    "        r[mask] = r_\n",
    "\n",
    "    return r\n",
    "\n",
    "def get_mask(x: Tuple[int, int], impenetrables: List[Tuple[int, int]]):\n",
    "    \"\"\"\n",
    "    mask legend:\n",
    "    [stay, up, down, right, left]\n",
    "\n",
    "    :param x: current position\n",
    "    :param impenetrables: set of impenetrable points\n",
    "    \"\"\"\n",
    "\n",
    "    # TODO: do I need the if condition?\n",
    "    if x in impenetrables:\n",
    "        mask = np.zeros(5).astype(bool)\n",
    "    else:\n",
    "        mask = np.logical_not(\n",
    "            np.array([\n",
    "                sum(kd((x[0], x[1]), d) for d in impenetrables),  # stay\n",
    "                sum(kd((x[0] - 1, x[1]), d) for d in impenetrables),  # move up\n",
    "                sum(kd((x[0] + 1, x[1]), d) for d in impenetrables),  # move down\n",
    "                sum(kd((x[0], x[1] + 1), d) for d in impenetrables),  # move right\n",
    "                sum(kd((x[0], x[1] - 1), d) for d in impenetrables)  # move left\n",
    "            ]))\n",
    "\n",
    "    return mask\n",
    "\n",
    "def get_p_xf_xi(xf, xi, lam, mask):\n",
    "    rho = get_rho(lam, mask)\n",
    "\n",
    "    p_xf_xi = \\\n",
    "        kd(xf, (xi[0], xi[1])) * rho[0] + \\\n",
    "        kd(xf, (xi[0] - 1, xi[1])) * rho[1] + \\\n",
    "        kd(xf, (xi[0] + 1, xi[1])) * rho[2] + \\\n",
    "        kd(xf, (xi[0], xi[1] + 1)) * rho[3] + \\\n",
    "        kd(xf, (xi[0], xi[1] - 1)) * rho[4]\n",
    "\n",
    "    return p_xf_xi\n",
    "\n",
    "def get_grad_p_xf_xi(xf, xi, lam, mask):\n",
    "    rho = get_rho(lam, mask)\n",
    "    p_xf_xi = get_p_xf_xi(xf, xi, lam, mask)\n",
    "\n",
    "    grad_p_xf_xi = - rho * p_xf_xi\n",
    "\n",
    "    grad_p_xf_xi += np.array([\n",
    "        kd(xf, (xi[0], xi[1])) * rho[0],\n",
    "        kd(xf, (xi[0] - 1, xi[1])) * rho[1],\n",
    "        kd(xf, (xi[0] + 1, xi[1])) * rho[2],\n",
    "        kd(xf, (xi[0], xi[1] + 1)) * rho[3],\n",
    "        kd(xf, (xi[0], xi[1] - 1)) * rho[4]\n",
    "    ])\n",
    "\n",
    "    return grad_p_xf_xi\n",
    "\n",
    "def get_all_grad_p_xf_xi(xi, lam, mask, d0, d1):\n",
    "\n",
    "    all_grad_xf = np.zeros(shape=(d0,d1,5))\n",
    "    \n",
    "    for xf in itertools.product(range(d0), range(d1)):\n",
    "        all_grad_xf[xf] = get_grad_p_xf_xi(xf, xi, lam, mask)\n",
    "            \n",
    "    return all_grad_xf.transpose(2,0,1)  # shape = (5, d0, d1)"
   ]
  },
  {
   "cell_type": "code",
   "execution_count": 41,
   "metadata": {
    "hidden": true
   },
   "outputs": [
    {
     "data": {
      "text/plain": [
       "(array([0.        , 0.03511903, 0.        , 0.25949646, 0.70538451]), 1.0)"
      ]
     },
     "execution_count": 41,
     "metadata": {},
     "output_type": "execute_result"
    }
   ],
   "source": [
    "rho = get_rho(lam=np.array([1,2,3,4, 5]), mask=[False, True, False, True, True])\n",
    "rho, rho.sum()"
   ]
  },
  {
   "cell_type": "code",
   "execution_count": 42,
   "metadata": {
    "hidden": true
   },
   "outputs": [
    {
     "data": {
      "text/plain": [
       "(array([0., 0., 0., 0., 0.]), 0.0)"
      ]
     },
     "execution_count": 42,
     "metadata": {},
     "output_type": "execute_result"
    }
   ],
   "source": [
    "rho = get_rho(lam=np.array([1,2,3,4, 5]), mask=[False, False, False, False, False])\n",
    "rho, rho.sum()"
   ]
  },
  {
   "cell_type": "code",
   "execution_count": 44,
   "metadata": {
    "hidden": true
   },
   "outputs": [],
   "source": [
    "impenetrable_points = \\\n",
    "    [(-1, el) for el in range(d1)] + \\\n",
    "    [(d0, el) for el in range(d1)] + \\\n",
    "    [(el, -1) for el in range(d0)] + \\\n",
    "    [(el, d1) for el in range(d0)] + \\\n",
    "    [(1,1)]\n"
   ]
  },
  {
   "cell_type": "code",
   "execution_count": 45,
   "metadata": {
    "hidden": true,
    "scrolled": true
   },
   "outputs": [
    {
     "data": {
      "text/plain": [
       "[(-1, 0),\n",
       " (-1, 1),\n",
       " (-1, 2),\n",
       " (-1, 3),\n",
       " (3, 0),\n",
       " (3, 1),\n",
       " (3, 2),\n",
       " (3, 3),\n",
       " (0, -1),\n",
       " (1, -1),\n",
       " (2, -1),\n",
       " (0, 4),\n",
       " (1, 4),\n",
       " (2, 4),\n",
       " (1, 1)]"
      ]
     },
     "execution_count": 45,
     "metadata": {},
     "output_type": "execute_result"
    }
   ],
   "source": [
    "impenetrable_points"
   ]
  },
  {
   "cell_type": "code",
   "execution_count": 63,
   "metadata": {
    "hidden": true
   },
   "outputs": [
    {
     "data": {
      "text/plain": [
       "array([[[ True,  True,  True,  True,  True],\n",
       "        [ True,  True,  True,  True,  True],\n",
       "        [ True,  True,  True,  True,  True],\n",
       "        [ True,  True,  True,  True,  True]],\n",
       "\n",
       "       [[ True,  True,  True,  True,  True],\n",
       "        [ True,  True,  True,  True,  True],\n",
       "        [ True,  True,  True,  True,  True],\n",
       "        [ True,  True,  True,  True,  True]],\n",
       "\n",
       "       [[ True,  True,  True,  True,  True],\n",
       "        [ True,  True,  True,  True,  True],\n",
       "        [ True,  True,  True,  True,  True],\n",
       "        [ True,  True,  True,  True,  True]]])"
      ]
     },
     "execution_count": 63,
     "metadata": {},
     "output_type": "execute_result"
    }
   ],
   "source": [
    "masks = np.ones(shape=(d0,d1,5)).astype(bool)\n",
    "masks"
   ]
  },
  {
   "cell_type": "code",
   "execution_count": 64,
   "metadata": {
    "hidden": true
   },
   "outputs": [],
   "source": [
    "for x in itertools.product(range(d0), range(d1)):\n",
    "\n",
    "    masks[x] = get_mask(x=x, impenetrables=impenetrable_points)"
   ]
  },
  {
   "cell_type": "code",
   "execution_count": 65,
   "metadata": {
    "hidden": true
   },
   "outputs": [
    {
     "data": {
      "text/plain": [
       "array([[[ True, False,  True,  True, False],\n",
       "        [ True, False, False,  True,  True],\n",
       "        [ True, False,  True,  True,  True],\n",
       "        [ True, False,  True, False,  True]],\n",
       "\n",
       "       [[ True,  True,  True, False, False],\n",
       "        [False, False, False, False, False],\n",
       "        [ True,  True,  True,  True, False],\n",
       "        [ True,  True,  True, False,  True]],\n",
       "\n",
       "       [[ True,  True, False,  True, False],\n",
       "        [ True, False, False,  True,  True],\n",
       "        [ True,  True, False,  True,  True],\n",
       "        [ True,  True, False, False,  True]]])"
      ]
     },
     "execution_count": 65,
     "metadata": {},
     "output_type": "execute_result"
    }
   ],
   "source": [
    "masks"
   ]
  },
  {
   "cell_type": "code",
   "execution_count": 66,
   "metadata": {
    "hidden": true
   },
   "outputs": [
    {
     "data": {
      "text/plain": [
       "array([ True,  True, False,  True, False])"
      ]
     },
     "execution_count": 66,
     "metadata": {},
     "output_type": "execute_result"
    }
   ],
   "source": [
    "masks[(2,0)]"
   ]
  },
  {
   "cell_type": "code",
   "execution_count": 76,
   "metadata": {
    "code_folding": [],
    "hidden": true
   },
   "outputs": [],
   "source": [
    "# np.set_printoptions(edgeitems=10)\n",
    "np.core.arrayprint._line_width = 180"
   ]
  },
  {
   "cell_type": "code",
   "execution_count": 87,
   "metadata": {
    "hidden": true
   },
   "outputs": [
    {
     "name": "stdout",
     "output_type": "stream",
     "text": [
      "[[0.         0.         0.         0.        ]\n",
      " [0.         0.         0.         0.04661262]\n",
      " [0.         0.         0.93623955 0.01714783]]\n",
      "\n",
      " 1.0\n"
     ]
    }
   ],
   "source": [
    "lam = np.array([0,1,2,3,4])\n",
    "xi = (2,3)\n",
    "\n",
    "all_xf = np.zeros(shape=(d0,d1))\n",
    "\n",
    "for xf in itertools.product(range(d0), range(d1)):\n",
    "    all_xf[xf] = get_p_xf_xi(xf, xi, lam, masks[xi])\n",
    "\n",
    "print(all_xf)\n",
    "print('\\n', all_xf.sum())"
   ]
  },
  {
   "cell_type": "code",
   "execution_count": 89,
   "metadata": {
    "hidden": true
   },
   "outputs": [],
   "source": [
    "lam = np.array([0,1,2,3,4])\n",
    "xi = (2,3)\n",
    "\n",
    "all_grad_xf = np.zeros(shape=(d0,d1,5))\n",
    "\n",
    "for xf in itertools.product(range(d0), range(d1)):\n",
    "    all_grad_xf[xf] = get_grad_p_xf_xi(xf, xi, lam, masks[xi])\n",
    "    \n",
    "# print(all_xf)\n",
    "# print('\\n', all_xf.sum())"
   ]
  },
  {
   "cell_type": "code",
   "execution_count": 91,
   "metadata": {
    "hidden": true
   },
   "outputs": [
    {
     "name": "stdout",
     "output_type": "stream",
     "text": [
      "[[[ 0.          0.          0.          0.          0.        ]\n",
      "  [ 0.          0.          0.          0.          0.        ]\n",
      "  [ 0.          0.          0.          0.          0.        ]\n",
      "  [ 0.          0.          0.          0.          0.        ]]\n",
      "\n",
      " [[ 0.          0.          0.          0.          0.        ]\n",
      "  [ 0.          0.          0.          0.          0.        ]\n",
      "  [ 0.          0.          0.          0.          0.        ]\n",
      "  [-0.00079931  0.04443989  0.          0.         -0.04364058]]\n",
      "\n",
      " [[ 0.          0.          0.          0.          0.        ]\n",
      "  [ 0.          0.          0.          0.          0.        ]\n",
      "  [-0.01605447 -0.04364058  0.          0.          0.05969505]\n",
      "  [ 0.01685378 -0.00079931  0.          0.         -0.01605447]]]\n"
     ]
    }
   ],
   "source": [
    "print(all_grad_xf)"
   ]
  },
  {
   "cell_type": "code",
   "execution_count": 99,
   "metadata": {
    "hidden": true
   },
   "outputs": [
    {
     "data": {
      "text/plain": [
       "array([-0.00079931,  0.04443989,  0.        ,  0.        , -0.04364058])"
      ]
     },
     "execution_count": 99,
     "metadata": {},
     "output_type": "execute_result"
    }
   ],
   "source": [
    "all_grad_xf[(1,3)]"
   ]
  },
  {
   "cell_type": "code",
   "execution_count": null,
   "metadata": {
    "hidden": true
   },
   "outputs": [],
   "source": []
  },
  {
   "cell_type": "markdown",
   "metadata": {
    "heading_collapsed": true
   },
   "source": [
    "##### summarize everything"
   ]
  },
  {
   "cell_type": "code",
   "execution_count": 100,
   "metadata": {
    "hidden": true
   },
   "outputs": [],
   "source": [
    "t = 0\n",
    "d0, d1 = 3, 4"
   ]
  },
  {
   "cell_type": "code",
   "execution_count": 102,
   "metadata": {
    "code_folding": [],
    "hidden": true
   },
   "outputs": [],
   "source": [
    "rewards = np.zeros(shape=(d0, d1))\n",
    "masks = np.ones(shape=(d0,d1,5)).astype(bool)\n",
    "\n",
    "for x in itertools.product(range(d0), range(d1)):    \n",
    "    rewards[x] = get_reward(x, t, reward_points)\n",
    "    masks[x] = get_mask(x, impenetrable_points)"
   ]
  },
  {
   "cell_type": "code",
   "execution_count": 104,
   "metadata": {
    "hidden": true
   },
   "outputs": [],
   "source": [
    "v_star = np.zeros(shape=(d0, d1))"
   ]
  },
  {
   "cell_type": "code",
   "execution_count": 200,
   "metadata": {
    "hidden": true
   },
   "outputs": [],
   "source": [
    "t_max=6\n",
    "alpha = 0.1\n",
    "gamma = 0.95\n",
    "\n",
    "\n",
    "max_iterations = 10000\n",
    "\n",
    "lams = np.zeros(shape=(t_max,d0,d1,5)) # np.random.randn(d0,d1,5)*0.1  # np.zeros(shape=(d0,d1,5))\n",
    "rhos = np.zeros(shape=(t_max,d0,d1,5))\n",
    "v_stars = np.zeros(shape=(t_max,d0,d1))\n",
    "\n",
    "\n",
    "\n",
    "for tau in np.arange(0, t_max)[::-1]:\n",
    "    \n",
    "    gamma_tau = gamma ** tau\n",
    "\n",
    "    for xi in itertools.product(range(d0), range(d1)):\n",
    "\n",
    "        mask = masks[xi]\n",
    "        lam = lams[tau][xi]        \n",
    "        rho, rho_prev = get_rho(lam, mask), None\n",
    "        v_star = np.zeros(shape=(d0,d1)) if tau == t_max-1 else v_stars[tau+1]\n",
    "        \n",
    "        for it in range(max_iterations):\n",
    "\n",
    "            all_grad_xf = get_all_grad_p_xf_xi(xi, lam, mask, d0, d1)\n",
    "            \n",
    "            d_lam = ((gamma * v_star + gamma_tau * rewards) * all_grad_xf).sum(axis=(1,2))            \n",
    "            \n",
    "#             d_lam = sum([\n",
    "#                 (gamma * v_star[xf] + gamma_tau * rewards[xf]) * get_grad_p_xf_xi(xf, xi, lam, mask) \n",
    "#                 for xf in x_all])\n",
    "\n",
    "            lam += alpha * d_lam\n",
    "\n",
    "            rho_prev = rho\n",
    "            rho = get_rho(lam, mask)\n",
    "\n",
    "            if np.linalg.norm((rho - rho_prev)) < 10 ** -6:\n",
    "                break\n",
    "\n",
    "        lams[tau][xi] = lam\n",
    "        rhos[tau][xi] = rho\n",
    "        \n",
    "        v_stars[tau][xi] = sum([\n",
    "            (gamma * v_star[xf] + gamma_tau * rewards[xf]) * get_p_xf_xi(xf, xi, lam, mask)\n",
    "            for xf in itertools.product(range(d0), range(d1))\n",
    "        ])\n",
    "\n",
    "        "
   ]
  },
  {
   "cell_type": "code",
   "execution_count": 201,
   "metadata": {
    "hidden": true
   },
   "outputs": [
    {
     "data": {
      "text/plain": [
       "array([[[0.  , 0.  , 0.  , 1.  ],\n",
       "        [0.  , 0.  , 0.  , 0.  ],\n",
       "        [0.  , 0.  , 0.  , 0.  ]],\n",
       "\n",
       "       [[0.  , 0.  , 0.  , 0.  ],\n",
       "        [1.  , 0.  , 1.  , 1.  ],\n",
       "        [0.64, 0.  , 1.  , 0.  ]],\n",
       "\n",
       "       [[0.  , 0.  , 0.  , 0.  ],\n",
       "        [0.  , 0.  , 0.  , 0.  ],\n",
       "        [0.  , 0.  , 0.  , 0.  ]],\n",
       "\n",
       "       [[1.  , 1.  , 1.  , 0.  ],\n",
       "        [0.  , 0.  , 0.  , 0.  ],\n",
       "        [0.36, 1.  , 0.  , 0.  ]],\n",
       "\n",
       "       [[0.  , 0.  , 0.  , 0.  ],\n",
       "        [0.  , 0.  , 0.  , 0.  ],\n",
       "        [0.  , 0.  , 0.  , 1.  ]]])"
      ]
     },
     "execution_count": 201,
     "metadata": {},
     "output_type": "execute_result"
    }
   ],
   "source": [
    "np.round(rhos[0], 2).transpose(2,0,1)"
   ]
  },
  {
   "cell_type": "markdown",
   "metadata": {},
   "source": [
    "##### use library"
   ]
  },
  {
   "cell_type": "code",
   "execution_count": 2,
   "metadata": {},
   "outputs": [
    {
     "data": {
      "text/plain": [
       "'/Users/A.IVA/Documents/jupyter_notebooks/coursera_and_blogs/pytorch/rl'"
      ]
     },
     "execution_count": 2,
     "metadata": {},
     "output_type": "execute_result"
    }
   ],
   "source": [
    "pwd"
   ]
  },
  {
   "cell_type": "code",
   "execution_count": 2,
   "metadata": {},
   "outputs": [],
   "source": [
    "from src.m01_refactored import get_path, plot_rho\n",
    "import numpy as np"
   ]
  },
  {
   "cell_type": "code",
   "execution_count": 3,
   "metadata": {},
   "outputs": [],
   "source": [
    "d0 = 3\n",
    "d1 = 4\n",
    "t_max = 7\n",
    "\n",
    "params = {\n",
    "    'd0': d0,\n",
    "    'd1': d1,\n",
    "    't_max': t_max,\n",
    "    'alpha': 0.1,\n",
    "    'gamma': 1,\n",
    "    'max_iterations': 10000\n",
    "}\n",
    "\n",
    "reward_points = [\n",
    "    {\n",
    "        'pos': (0,3),\n",
    "        't': np.arange(0,t_max),\n",
    "        'reward': np.ones(shape=(t_max,))\n",
    "    },\n",
    "    {\n",
    "        'pos': (1,3),\n",
    "        't': np.arange(0,t_max),\n",
    "        'reward': -6 * np.ones(shape=(t_max,)) \n",
    "    }\n",
    "]\n",
    "\n",
    "impenetrable_points = \\\n",
    "    [(-1, el) for el in range(d1)] + \\\n",
    "    [(d0, el) for el in range(d1)] + \\\n",
    "    [(el, -1) for el in range(d0)] + \\\n",
    "    [(el, d1) for el in range(d0)] + \\\n",
    "    [(1,1)]"
   ]
  },
  {
   "cell_type": "code",
   "execution_count": 4,
   "metadata": {},
   "outputs": [
    {
     "name": "stdout",
     "output_type": "stream",
     "text": [
      "tau = 6\n",
      "tau = 5\n",
      "tau = 4\n",
      "tau = 3\n",
      "tau = 2\n",
      "tau = 1\n",
      "tau = 0\n"
     ]
    }
   ],
   "source": [
    "result = get_path(params=params,\n",
    "                  impenetrable_points=impenetrable_points,\n",
    "                  reward_points=reward_points)"
   ]
  },
  {
   "cell_type": "code",
   "execution_count": 5,
   "metadata": {},
   "outputs": [
    {
     "data": {
      "image/png": "[encoded data removed]",
      "text/plain": [
       "<Figure size 540x324 with 2 Axes>"
      ]
     },
     "metadata": {
      "needs_background": "light"
     },
     "output_type": "display_data"
    }
   ],
   "source": [
    "plot_rho(V=result['v_stars'][0], \n",
    "         probabilities=result['rhos'][0], \n",
    "         impenetrable_points=impenetrable_points, \n",
    "         d0=d0, \n",
    "         d1=d1)"
   ]
  },
  {
   "cell_type": "code",
   "execution_count": 6,
   "metadata": {},
   "outputs": [
    {
     "data": {
      "image/png": "[encoded data removed]",
      "text/plain": [
       "<Figure size 540x324 with 2 Axes>"
      ]
     },
     "metadata": {
      "needs_background": "light"
     },
     "output_type": "display_data"
    }
   ],
   "source": [
    "plot_rho(V=result['v_stars'][1], \n",
    "         probabilities=result['rhos'][1], \n",
    "         impenetrable_points=impenetrable_points, \n",
    "         d0=d0, \n",
    "         d1=d1)"
   ]
  },
  {
   "cell_type": "code",
   "execution_count": 20,
   "metadata": {},
   "outputs": [
    {
     "data": {
      "image/png": "[encoded data removed]",
      "text/plain": [
       "<Figure size 540x324 with 2 Axes>"
      ]
     },
     "metadata": {
      "needs_background": "light"
     },
     "output_type": "display_data"
    }
   ],
   "source": [
    "plot_rho(V=result['v_stars'][2], \n",
    "         probabilities=result['rhos'][2], \n",
    "         impenetrable_points=impenetrable_points, \n",
    "         d0=d0, \n",
    "         d1=d1)"
   ]
  },
  {
   "cell_type": "code",
   "execution_count": 19,
   "metadata": {},
   "outputs": [
    {
     "data": {
      "image/png": "[encoded data removed]",
      "text/plain": [
       "<Figure size 540x324 with 2 Axes>"
      ]
     },
     "metadata": {
      "needs_background": "light"
     },
     "output_type": "display_data"
    }
   ],
   "source": [
    "plot_rho(V=result['v_stars'][3], \n",
    "         probabilities=result['rhos'][3], \n",
    "         impenetrable_points=impenetrable_points, \n",
    "         d0=d0, \n",
    "         d1=d1)"
   ]
  },
  {
   "cell_type": "code",
   "execution_count": 17,
   "metadata": {},
   "outputs": [
    {
     "data": {
      "image/png": "[encoded data removed]",
      "text/plain": [
       "<Figure size 540x324 with 2 Axes>"
      ]
     },
     "metadata": {
      "needs_background": "light"
     },
     "output_type": "display_data"
    }
   ],
   "source": [
    "plot_rho(V=result['v_stars'][4], \n",
    "         probabilities=result['rhos'][4], \n",
    "         impenetrable_points=impenetrable_points, \n",
    "         d0=d0, \n",
    "         d1=d1)"
   ]
  },
  {
   "cell_type": "code",
   "execution_count": 16,
   "metadata": {},
   "outputs": [
    {
     "data": {
      "image/png": "[encoded data removed]",
      "text/plain": [
       "<Figure size 540x324 with 2 Axes>"
      ]
     },
     "metadata": {
      "needs_background": "light"
     },
     "output_type": "display_data"
    }
   ],
   "source": [
    "plot_rho(V=result['v_stars'][5], \n",
    "         probabilities=result['rhos'][5], \n",
    "         impenetrable_points=impenetrable_points, \n",
    "         d0=d0, \n",
    "         d1=d1)"
   ]
  },
  {
   "cell_type": "code",
   "execution_count": 15,
   "metadata": {},
   "outputs": [
    {
     "data": {
      "image/png": "[encoded data removed]",
      "text/plain": [
       "<Figure size 540x324 with 2 Axes>"
      ]
     },
     "metadata": {
      "needs_background": "light"
     },
     "output_type": "display_data"
    }
   ],
   "source": [
    "plot_rho(V=result['v_stars'][6], \n",
    "         probabilities=result['rhos'][6], \n",
    "         impenetrable_points=impenetrable_points, \n",
    "         d0=d0, \n",
    "         d1=d1)"
   ]
  },
  {
   "cell_type": "code",
   "execution_count": 21,
   "metadata": {},
   "outputs": [
    {
     "data": {
      "text/plain": [
       "4"
      ]
     },
     "execution_count": 21,
     "metadata": {},
     "output_type": "execute_result"
    }
   ],
   "source": [
    "2+2"
   ]
  },
  {
   "cell_type": "code",
   "execution_count": 25,
   "metadata": {},
   "outputs": [
    {
     "data": {
      "text/plain": [
       "(3, 4)"
      ]
     },
     "execution_count": 25,
     "metadata": {},
     "output_type": "execute_result"
    }
   ],
   "source": [
    "result['v_stars'][6].shape"
   ]
  },
  {
   "cell_type": "code",
   "execution_count": 34,
   "metadata": {},
   "outputs": [],
   "source": [
    "import itertools\n",
    "V=np.zeros(shape=(3,4))\n",
    "V[(1,1)] = 1\n",
    "\n",
    "# for i,j in itertools.product(range(d0), range(d1)):\n",
    "#     V[(i,j)] = i+j"
   ]
  },
  {
   "cell_type": "code",
   "execution_count": 35,
   "metadata": {},
   "outputs": [
    {
     "data": {
      "image/png": "[encoded data removed]",
      "text/plain": [
       "<Figure size 432x324 with 1 Axes>"
      ]
     },
     "metadata": {
      "needs_background": "light"
     },
     "output_type": "display_data"
    }
   ],
   "source": [
    "fig = plt.figure(figsize=(1.5 * d1, 1.5 * d0))\n",
    "\n",
    "ax = fig.add_subplot(1, 1, 1, xticks=np.arange(d1), yticks=np.arange(d0))\n",
    "plt.imshow(V, interpolation='none', aspect='auto', cmap='RdYlGn')\n",
    "# plt.colorbar()\n",
    "arrows = [u'\\u26ab', '\\u25b2', '\\u25bc', '\\u25b6', '\\u25c0']\n",
    "\n",
    "# for (i, j), v in np.ndenumerate(np.around(V, 2)):\n",
    "#     label = ''\n",
    "#     if (i, j) not in impenetrable_points:\n",
    "#         if v < 0.01:\n",
    "#             label = \"x\\n \"\n",
    "#         else:\n",
    "#             probability_vec = probabilities[(i, j)]\n",
    "#             direction = arrows[np.argmax(probability_vec)]\n",
    "#             prob = np.max(np.round(probability_vec, 2))\n",
    "#             label = f\"{direction}\\n{prob}\"\n",
    "\n",
    "#     plt.gca().text(j, i, label, ha='center', va='center')\n",
    "\n",
    "plt.show()"
   ]
  },
  {
   "cell_type": "code",
   "execution_count": null,
   "metadata": {},
   "outputs": [],
   "source": []
  }
 ],
 "metadata": {
  "kernelspec": {
   "display_name": "pytorch",
   "language": "python",
   "name": "pytorch"
  },
  "language_info": {
   "codemirror_mode": {
    "name": "ipython",
    "version": 3
   },
   "file_extension": ".py",
   "mimetype": "text/x-python",
   "name": "python",
   "nbconvert_exporter": "python",
   "pygments_lexer": "ipython3",
   "version": "3.7.4"
  }
 },
 "nbformat": 4,
 "nbformat_minor": 2
}
