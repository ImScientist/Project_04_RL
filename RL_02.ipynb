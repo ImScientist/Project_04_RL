{
 "cells": [
  {
   "cell_type": "code",
   "execution_count": 1,
   "metadata": {},
   "outputs": [],
   "source": [
    "import numpy as np\n",
    "import copy\n",
    "\n",
    "from src.m02_best_from_finite_models import Get_P_V_single_timestep, Mask_x0_x1, Normalize_the_Lambdas, Reward, Plot_V"
   ]
  },
  {
   "cell_type": "markdown",
   "metadata": {},
   "source": [
    "### 1 Define the world"
   ]
  },
  {
   "cell_type": "code",
   "execution_count": 2,
   "metadata": {},
   "outputs": [],
   "source": [
    "dim0, dim1 = 3, 4\n",
    "\n",
    "impenetrable_points = \\\n",
    "    [(-1,   d1  ) for d1 in range(dim1)] + \\\n",
    "    [(dim0, d1  ) for d1 in range(dim1)] + \\\n",
    "    [(d0  , -1  ) for d0 in range(dim0)] + \\\n",
    "    [(d0  , dim1) for d0 in range(dim0)] + \\\n",
    "    [(1,1)]\n",
    "\n",
    "M = np.array([ [Mask_x0_x1(x=(x0,x1), D=impenetrable_points) for x1 in range(dim1)] for x0 in range(dim0) ])\n",
    "\n",
    "R = np.array([  [Reward(x=(x0,x1)) for x1 in range(dim1)] for x0 in range(dim0) ])"
   ]
  },
  {
   "cell_type": "markdown",
   "metadata": {},
   "source": [
    "### 2 No noise"
   ]
  },
  {
   "cell_type": "code",
   "execution_count": 3,
   "metadata": {},
   "outputs": [],
   "source": [
    "hyperparameters = {\n",
    "    'ep_noise':        0,\n",
    "    'gam':             0.95\n",
    "    }\n",
    "\n",
    "V_0 = np.zeros((dim0, dim1))\n",
    "Lam_candidates = np.array([[np.identity(5)[[0,2,3,4],:] for d1 in range(dim1)] for d0 in range(dim0)])\n",
    "\n",
    "\n",
    "# Normalize_the_Lambdas\n",
    "for d0 in range(dim0):\n",
    "    for d1 in range(dim1):\n",
    "        for d2 in range(Lam_candidates.shape[2]):\n",
    "            Lam_candidates[d0,d1,d2] = Normalize_the_Lambdas(lam=Lam_candidates[d0,d1,d2], M=M[d0,d1], ep_noise=hyperparameters['ep_noise'])\n",
    "            \n",
    "            \n",
    "# Iterative algorithm\n",
    "V_new = V_0\n",
    "\n",
    "for t in range(4,-1,-1):\n",
    "    \n",
    "    V = copy.deepcopy(V_new)\n",
    "    Lam_new, V_new = Get_P_V_single_timestep(\\\n",
    "                        dimensions=(dim0, dim1), \\\n",
    "                        hyperparameters=hyperparameters, \\\n",
    "                        V=V, R=R, M=M, Lam_candidates=Lam_candidates)"
   ]
  },
  {
   "cell_type": "code",
   "execution_count": 4,
   "metadata": {},
   "outputs": [
    {
     "data": {
      "text/plain": [
       "array([[2.57, 3.52, 4.52, 4.52],\n",
       "       [1.67, 0.  , 3.52, 4.52],\n",
       "       [0.81, 1.67, 2.57, 1.67]])"
      ]
     },
     "execution_count": 4,
     "metadata": {},
     "output_type": "execute_result"
    }
   ],
   "source": [
    "np.around(V_new, 2)"
   ]
  },
  {
   "cell_type": "code",
   "execution_count": 5,
   "metadata": {},
   "outputs": [
    {
     "data": {
      "text/plain": [
       "array([[[0., 0., 1., 0., 0.],\n",
       "        [0., 0., 1., 0., 0.],\n",
       "        [0., 0., 1., 0., 0.],\n",
       "        [0., 0., 0., 0., 1.]],\n",
       "\n",
       "       [[1., 0., 0., 0., 0.],\n",
       "        [0., 0., 0., 0., 0.],\n",
       "        [1., 0., 0., 0., 0.],\n",
       "        [1., 0., 0., 0., 0.]],\n",
       "\n",
       "       [[1., 0., 0., 0., 0.],\n",
       "        [0., 0., 1., 0., 0.],\n",
       "        [1., 0., 0., 0., 0.],\n",
       "        [0., 0., 0., 1., 0.]]])"
      ]
     },
     "execution_count": 5,
     "metadata": {},
     "output_type": "execute_result"
    }
   ],
   "source": [
    "probabilities = np.around(Lam_new**2 + M*hyperparameters['ep_noise'],2)\n",
    "probabilities"
   ]
  },
  {
   "cell_type": "code",
   "execution_count": 6,
   "metadata": {},
   "outputs": [
    {
     "data": {
      "image/png": "[encoded data removed]",
      "text/plain": [
       "<matplotlib.figure.Figure at 0x10f34aac8>"
      ]
     },
     "metadata": {},
     "output_type": "display_data"
    }
   ],
   "source": [
    "Plot_V(V_new, probabilities, impenetrable_points)"
   ]
  },
  {
   "cell_type": "markdown",
   "metadata": {},
   "source": [
    "### 3 Add noise"
   ]
  },
  {
   "cell_type": "code",
   "execution_count": 7,
   "metadata": {},
   "outputs": [],
   "source": [
    "hyperparameters = {\n",
    "    'ep_noise':        0.04,\n",
    "    'gam':             0.95\n",
    "    }\n",
    "\n",
    "V_0 = np.zeros((dim0, dim1))\n",
    "Lam_candidates = np.array([[np.identity(5)[[0,2,3,4],:] for d1 in range(dim1)] for d0 in range(dim0)])\n",
    "\n",
    "\n",
    "# Normalize_the_Lambdas\n",
    "for d0 in range(dim0):\n",
    "    for d1 in range(dim1):\n",
    "        for d2 in range(Lam_candidates.shape[2]):\n",
    "            Lam_candidates[d0,d1,d2] = Normalize_the_Lambdas(lam=Lam_candidates[d0,d1,d2], M=M[d0,d1], ep_noise=hyperparameters['ep_noise'])\n",
    "            \n",
    "            \n",
    "# Iterative algorithm\n",
    "V_new = V_0\n",
    "\n",
    "for t in range(4,-1,-1):\n",
    "    \n",
    "    V = copy.deepcopy(V_new)\n",
    "    Lam_new, V_new = Get_P_V_single_timestep(\\\n",
    "                        dimensions=(dim0, dim1), \\\n",
    "                        hyperparameters=hyperparameters, \\\n",
    "                        V=V, R=R, M=M, Lam_candidates=Lam_candidates)"
   ]
  },
  {
   "cell_type": "code",
   "execution_count": 8,
   "metadata": {},
   "outputs": [
    {
     "data": {
      "text/plain": [
       "array([[1.79, 2.55, 3.36, 3.26],\n",
       "       [1.07, 0.  , 2.32, 3.09],\n",
       "       [0.53, 0.85, 1.52, 0.74]])"
      ]
     },
     "execution_count": 8,
     "metadata": {},
     "output_type": "execute_result"
    }
   ],
   "source": [
    "np.around(V_new, 2)"
   ]
  },
  {
   "cell_type": "code",
   "execution_count": 9,
   "metadata": {},
   "outputs": [
    {
     "data": {
      "text/plain": [
       "array([[[0.  , 0.04, 0.92, 0.  , 0.04],\n",
       "        [0.  , 0.  , 0.92, 0.04, 0.04],\n",
       "        [0.  , 0.04, 0.88, 0.04, 0.04],\n",
       "        [0.  , 0.04, 0.  , 0.04, 0.92]],\n",
       "\n",
       "       [[0.92, 0.04, 0.  , 0.  , 0.04],\n",
       "        [0.  , 0.  , 0.  , 0.  , 0.  ],\n",
       "        [0.88, 0.04, 0.04, 0.  , 0.04],\n",
       "        [0.88, 0.04, 0.  , 0.04, 0.04]],\n",
       "\n",
       "       [[0.92, 0.  , 0.04, 0.  , 0.04],\n",
       "        [0.  , 0.  , 0.92, 0.04, 0.04],\n",
       "        [0.88, 0.  , 0.04, 0.04, 0.04],\n",
       "        [0.04, 0.  , 0.  , 0.92, 0.04]]])"
      ]
     },
     "execution_count": 9,
     "metadata": {},
     "output_type": "execute_result"
    }
   ],
   "source": [
    "probabilities = np.around(Lam_new**2 + M*hyperparameters['ep_noise'],2)\n",
    "probabilities"
   ]
  },
  {
   "cell_type": "code",
   "execution_count": 10,
   "metadata": {},
   "outputs": [
    {
     "data": {
      "image/png": "[encoded data removed]",
      "text/plain": [
       "<matplotlib.figure.Figure at 0x10f427da0>"
      ]
     },
     "metadata": {},
     "output_type": "display_data"
    }
   ],
   "source": [
    "Plot_V(V_new, probabilities, impenetrable_points)"
   ]
  },
  {
   "cell_type": "code",
   "execution_count": null,
   "metadata": {},
   "outputs": [],
   "source": []
  }
 ],
 "metadata": {
  "kernelspec": {
   "display_name": "Python 3",
   "language": "python",
   "name": "python3"
  },
  "language_info": {
   "codemirror_mode": {
    "name": "ipython",
    "version": 3
   },
   "file_extension": ".py",
   "mimetype": "text/x-python",
   "name": "python",
   "nbconvert_exporter": "python",
   "pygments_lexer": "ipython3",
   "version": "3.6.4"
  }
 },
 "nbformat": 4,
 "nbformat_minor": 2
}
