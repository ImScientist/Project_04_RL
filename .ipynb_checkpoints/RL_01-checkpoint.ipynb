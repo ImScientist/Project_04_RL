{
 "cells": [
  {
   "cell_type": "code",
   "execution_count": 1,
   "metadata": {},
   "outputs": [],
   "source": [
    "import numpy as np\n",
    "\n",
    "from src.m01_lagrange_multipliers import Get_P_V_single_timestep, mask_x0_x1, reward, Plot_V"
   ]
  },
  {
   "cell_type": "markdown",
   "metadata": {},
   "source": [
    "### 1 Define the world"
   ]
  },
  {
   "cell_type": "code",
   "execution_count": 2,
   "metadata": {},
   "outputs": [],
   "source": [
    "dim0, dim1 = 3, 4\n",
    "\n",
    "impenetrable_points = \\\n",
    "    [(-1,   d1  ) for d1 in range(dim1)] + \\\n",
    "    [(dim0, d1  ) for d1 in range(dim1)] + \\\n",
    "    [(d0  , -1  ) for d0 in range(dim0)] + \\\n",
    "    [(d0  , dim1) for d0 in range(dim0)] + \\\n",
    "    [(1,1)]\n",
    "\n",
    "M = np.array([ [mask_x0_x1(x=(x0,x1), D=impenetrable_points) for x1 in range(dim1)] for x0 in range(dim0) ])\n",
    "\n",
    "R = np.array([  [reward(x=(x0,x1)) for x1 in range(dim1)] for x0 in range(dim0) ])"
   ]
  },
  {
   "cell_type": "markdown",
   "metadata": {},
   "source": [
    "### 2 No noise"
   ]
  },
  {
   "cell_type": "code",
   "execution_count": 3,
   "metadata": {},
   "outputs": [],
   "source": [
    "hyperparameters = {\n",
    "    'ep_noise':        0,\n",
    "    'gam':             0.95,\n",
    "    'beta':            0.01,\n",
    "    'beta_2':          1,\n",
    "    'ep_min':          0.0000001,\n",
    "    'g_min':           0.0000001,\n",
    "    'n_iterations':    50000,\n",
    "    'n_test_interval': 100, \n",
    "    'beta_mult':       4,\n",
    "    'inter_mult':      1\n",
    "    }\n",
    "\n",
    "V_0 = np.zeros((dim0, dim1))\n",
    "Lam_0 = np.ones((dim0, dim1, 5))/np.sqrt(5)\n",
    "\n",
    "Lam_new, V_new = Lam_0, V_0\n",
    "\n",
    "for t in range(4,-1,-1):\n",
    "    \n",
    "    Lam, V = Lam_new, V_new\n",
    "    Lam_new, V_new = Get_P_V_single_timestep(\n",
    "                        dimensions=(dim0,dim1), \n",
    "                        hyperparameters=hyperparameters, \n",
    "                        V=V,\n",
    "                        R=R, \n",
    "                        M=M, \n",
    "                        Lam=Lam)"
   ]
  },
  {
   "cell_type": "code",
   "execution_count": 4,
   "metadata": {},
   "outputs": [
    {
     "data": {
      "text/plain": [
       "array([[2.57, 3.52, 4.52, 4.52],\n",
       "       [1.67, 0.  , 3.52, 4.52],\n",
       "       [0.81, 1.67, 2.57, 1.67]])"
      ]
     },
     "execution_count": 4,
     "metadata": {},
     "output_type": "execute_result"
    }
   ],
   "source": [
    "np.around(V_new,2)"
   ]
  },
  {
   "cell_type": "code",
   "execution_count": 5,
   "metadata": {},
   "outputs": [
    {
     "data": {
      "text/plain": [
       "array([[[0. , 0. , 1. , 0. , 0. ],\n",
       "        [0. , 0. , 1. , 0. , 0. ],\n",
       "        [0. , 0. , 1. , 0. , 0. ],\n",
       "        [0. , 0. , 0. , 0. , 1. ]],\n",
       "\n",
       "       [[1. , 0. , 0. , 0. , 0. ],\n",
       "        [0. , 0. , 0. , 0. , 0. ],\n",
       "        [1. , 0. , 0. , 0. , 0. ],\n",
       "        [1. , 0. , 0. , 0. , 0. ]],\n",
       "\n",
       "       [[0.5, 0. , 0.5, 0. , 0. ],\n",
       "        [0. , 0. , 1. , 0. , 0. ],\n",
       "        [1. , 0. , 0. , 0. , 0. ],\n",
       "        [0. , 0. , 0. , 1. , 0. ]]])"
      ]
     },
     "execution_count": 5,
     "metadata": {},
     "output_type": "execute_result"
    }
   ],
   "source": [
    "probabilities = np.around(Lam_new**2 + M*hyperparameters['ep_noise'],2)\n",
    "probabilities"
   ]
  },
  {
   "cell_type": "code",
   "execution_count": 6,
   "metadata": {},
   "outputs": [
    {
     "data": {
      "image/png": "[encoded data removed]",
      "text/plain": [
       "<matplotlib.figure.Figure at 0x10899b668>"
      ]
     },
     "metadata": {},
     "output_type": "display_data"
    }
   ],
   "source": [
    "Plot_V(V_new, probabilities, impenetrable_points)"
   ]
  },
  {
   "cell_type": "markdown",
   "metadata": {},
   "source": [
    "### 3 Add noise"
   ]
  },
  {
   "cell_type": "code",
   "execution_count": 7,
   "metadata": {},
   "outputs": [],
   "source": [
    "hyperparameters = {\n",
    "    'ep_noise':        0.04,\n",
    "    'gam':             0.95,\n",
    "    'beta':            0.01,\n",
    "    'beta_2':          1,\n",
    "    'ep_min':          0.0000001,\n",
    "    'g_min':           0.0000001,\n",
    "    'n_iterations':    50000,\n",
    "    'n_test_interval': 100, \n",
    "    'beta_mult':       4,\n",
    "    'inter_mult':      1\n",
    "    }\n",
    "\n",
    "V_0 = np.zeros((dim0, dim1))\n",
    "Lam_0 = np.ones((dim0, dim1, 5))/np.sqrt(5)\n",
    "\n",
    "Lam_new, V_new = Lam_0, V_0\n",
    "\n",
    "for t in range(4,-1,-1):\n",
    "    \n",
    "    Lam, V = Lam_new, V_new\n",
    "    Lam_new, V_new = Get_P_V_single_timestep(\n",
    "                        dimensions=(dim0,dim1), \n",
    "                        hyperparameters=hyperparameters, \n",
    "                        V=V,\n",
    "                        R=R, \n",
    "                        M=M, \n",
    "                        Lam=Lam)"
   ]
  },
  {
   "cell_type": "code",
   "execution_count": 8,
   "metadata": {},
   "outputs": [
    {
     "data": {
      "text/plain": [
       "array([[1.79, 2.55, 3.36, 3.26],\n",
       "       [1.07, 0.  , 2.32, 3.09],\n",
       "       [0.53, 0.85, 1.52, 0.74]])"
      ]
     },
     "execution_count": 8,
     "metadata": {},
     "output_type": "execute_result"
    }
   ],
   "source": [
    "np.around(V_new,2)"
   ]
  },
  {
   "cell_type": "code",
   "execution_count": 9,
   "metadata": {},
   "outputs": [
    {
     "data": {
      "text/plain": [
       "array([[[0.  , 0.04, 0.92, 0.  , 0.04],\n",
       "        [0.  , 0.  , 0.92, 0.04, 0.04],\n",
       "        [0.  , 0.04, 0.88, 0.04, 0.04],\n",
       "        [0.  , 0.04, 0.  , 0.04, 0.92]],\n",
       "\n",
       "       [[0.92, 0.04, 0.  , 0.  , 0.04],\n",
       "        [0.  , 0.  , 0.  , 0.  , 0.  ],\n",
       "        [0.88, 0.04, 0.04, 0.  , 0.04],\n",
       "        [0.88, 0.04, 0.  , 0.04, 0.04]],\n",
       "\n",
       "       [[0.92, 0.  , 0.04, 0.  , 0.04],\n",
       "        [0.  , 0.  , 0.92, 0.04, 0.04],\n",
       "        [0.88, 0.  , 0.04, 0.04, 0.04],\n",
       "        [0.04, 0.  , 0.  , 0.92, 0.04]]])"
      ]
     },
     "execution_count": 9,
     "metadata": {},
     "output_type": "execute_result"
    }
   ],
   "source": [
    "probabilities = np.around(Lam_new**2 + M*hyperparameters['ep_noise'],2)\n",
    "probabilities"
   ]
  },
  {
   "cell_type": "code",
   "execution_count": 10,
   "metadata": {
    "scrolled": true
   },
   "outputs": [
    {
     "data": {
      "image/png": "[encoded data removed]",
      "text/plain": [
       "<matplotlib.figure.Figure at 0x108a60ef0>"
      ]
     },
     "metadata": {},
     "output_type": "display_data"
    }
   ],
   "source": [
    "Plot_V(V_new, probabilities, impenetrable_points)"
   ]
  },
  {
   "cell_type": "code",
   "execution_count": null,
   "metadata": {},
   "outputs": [],
   "source": []
  }
 ],
 "metadata": {
  "kernelspec": {
   "display_name": "Python 3",
   "language": "python",
   "name": "python3"
  },
  "language_info": {
   "codemirror_mode": {
    "name": "ipython",
    "version": 3
   },
   "file_extension": ".py",
   "mimetype": "text/x-python",
   "name": "python",
   "nbconvert_exporter": "python",
   "pygments_lexer": "ipython3",
   "version": "3.7.4"
  }
 },
 "nbformat": 4,
 "nbformat_minor": 2
}
